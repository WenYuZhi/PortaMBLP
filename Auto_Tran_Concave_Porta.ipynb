{
 "cells": [
  {
   "cell_type": "code",
   "execution_count": 1,
   "metadata": {},
   "outputs": [],
   "source": [
    "import os\n",
    "import copy\n",
    "import time"
   ]
  },
  {
   "cell_type": "code",
   "execution_count": 2,
   "metadata": {},
   "outputs": [],
   "source": [
    "def traf_constraints_to_vertex(path, file_name):\n",
    "    cmd = 'cd' + ' ' + path + ' & ' + 'traf' + ' ' + file_name\n",
    "    os.system(cmd)"
   ]
  },
  {
   "cell_type": "code",
   "execution_count": 3,
   "metadata": {},
   "outputs": [],
   "source": [
    "def input_vertex(path, file_name):\n",
    "    problem_formulation, cone, conv = {}, [], []\n",
    "    label_cone, label_conv = 0, 0\n",
    "    with open(path + '\\\\' + file_name, 'r') as f:\n",
    "        for line in f:\n",
    "            if line != '\\n':\n",
    "                line = ' '.join(line.split())\n",
    "                if 'DIM' in  line:\n",
    "                    _, problem_formulation['DIM'] = line.strip().split('=')\n",
    "                if 'CONE_SECTION' in line:\n",
    "                    label_cone = 1\n",
    "                if 'CONV_SECTION' in line:\n",
    "                    label_conv = 1\n",
    "                if label_cone == 1 and label_conv == 0:\n",
    "                    cone.append(line.strip().split(' '))\n",
    "                if label_conv == 1:\n",
    "                    conv.append(line.strip().split(' '))\n",
    "\n",
    "    problem_formulation['CONE_SECTION'], problem_formulation['CONV_SECTION'] = cone, conv\n",
    "    return problem_formulation"
   ]
  },
  {
   "cell_type": "code",
   "execution_count": 4,
   "metadata": {},
   "outputs": [],
   "source": [
    "def del_non_int_vertex(conv):\n",
    "    conv_int = copy.deepcopy(conv)\n",
    "    for i in range(1, len(conv)):\n",
    "        for j in range(1, len(conv[i])):\n",
    "            if '/' in conv[i][j]:\n",
    "                conv_int.remove(conv[i])\n",
    "                break\n",
    "    return conv_int"
   ]
  },
  {
   "cell_type": "code",
   "execution_count": 5,
   "metadata": {},
   "outputs": [],
   "source": [
    "def output_int_vertex(path, file_name, conv_int):\n",
    "    with open(path + '\\\\' + file_name, 'w') as f:\n",
    "        f.write('DIM'+ ' = ' + problem_formulation['DIM'])\n",
    "        f.write('\\n')\n",
    "        f.write('\\n')\n",
    "        f.write('CONV_SECTION' + '\\n')\n",
    "        for i in range(1, len(conv_int)-1):\n",
    "            f.write(conv_int[i][0] + '  '+ conv_int[i][1])\n",
    "            for j in range(2, len(conv_int[i])):\n",
    "                f.write(' ' + conv_int[i][j])\n",
    "            f.write('\\n')\n",
    "        f.write('\\n')\n",
    "        f.write('END' + '\\n')"
   ]
  },
  {
   "cell_type": "code",
   "execution_count": 6,
   "metadata": {},
   "outputs": [],
   "source": [
    "def traf_vertex_to_constraints(path, file_name):\n",
    "    cmd = 'cd' + ' ' + path + ' & ' + 'traf' + ' ' + file_name\n",
    "    os.system(cmd)"
   ]
  },
  {
   "cell_type": "code",
   "execution_count": 7,
   "metadata": {},
   "outputs": [],
   "source": [
    "ts = time.clock()\n",
    "path = r'C:\\jupyter_python_program\\convex_concave\\porta-1.4.1\\win32\\bin'\n",
    "file_name = 'DIM6.ieq'\n",
    "traf_constraints_to_vertex(path, file_name)"
   ]
  },
  {
   "cell_type": "code",
   "execution_count": 8,
   "metadata": {},
   "outputs": [],
   "source": [
    "file_name = 'DIM6.ieq.poi'\n",
    "problem_formulation = input_vertex(path, file_name)"
   ]
  },
  {
   "cell_type": "code",
   "execution_count": 9,
   "metadata": {},
   "outputs": [],
   "source": [
    "conv_int = del_non_int_vertex(problem_formulation['CONV_SECTION'])"
   ]
  },
  {
   "cell_type": "code",
   "execution_count": 10,
   "metadata": {},
   "outputs": [],
   "source": [
    "file_name = 'DIM6.ieq_int.poi'\n",
    "output_int_vertex(path, file_name, conv_int)"
   ]
  },
  {
   "cell_type": "code",
   "execution_count": 11,
   "metadata": {},
   "outputs": [],
   "source": [
    "file_name = 'DIM6.ieq_int.poi'\n",
    "traf_vertex_to_constraints(path, file_name)"
   ]
  },
  {
   "cell_type": "code",
   "execution_count": 12,
   "metadata": {},
   "outputs": [
    {
     "name": "stdout",
     "output_type": "stream",
     "text": [
      "0.4930879985607606\n"
     ]
    }
   ],
   "source": [
    "print(time.clock() - ts)"
   ]
  }
 ],
 "metadata": {
  "kernelspec": {
   "display_name": "Python 3",
   "language": "python",
   "name": "python3"
  },
  "language_info": {
   "codemirror_mode": {
    "name": "ipython",
    "version": 3
   },
   "file_extension": ".py",
   "mimetype": "text/x-python",
   "name": "python",
   "nbconvert_exporter": "python",
   "pygments_lexer": "ipython3",
   "version": "3.6.5"
  },
  "toc": {
   "base_numbering": 1,
   "nav_menu": {},
   "number_sections": true,
   "sideBar": true,
   "skip_h1_title": false,
   "title_cell": "Table of Contents",
   "title_sidebar": "Contents",
   "toc_cell": false,
   "toc_position": {},
   "toc_section_display": true,
   "toc_window_display": false
  }
 },
 "nbformat": 4,
 "nbformat_minor": 2
}
